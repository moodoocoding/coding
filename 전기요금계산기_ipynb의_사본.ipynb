{
  "nbformat": 4,
  "nbformat_minor": 0,
  "metadata": {
    "colab": {
      "name": "전기요금계산기.ipynb의 사본",
      "provenance": [],
      "collapsed_sections": [],
      "authorship_tag": "ABX9TyNUF4hMuS8HySbvrYitEDLo",
      "include_colab_link": true
    },
    "kernelspec": {
      "name": "python3",
      "display_name": "Python 3"
    },
    "language_info": {
      "name": "python"
    }
  },
  "cells": [
    {
      "cell_type": "markdown",
      "metadata": {
        "id": "view-in-github",
        "colab_type": "text"
      },
      "source": [
        "<a href=\"https://colab.research.google.com/github/moodoocoding/coding/blob/master/%EC%A0%84%EA%B8%B0%EC%9A%94%EA%B8%88%EA%B3%84%EC%82%B0%EA%B8%B0_ipynb%EC%9D%98_%EC%82%AC%EB%B3%B8.ipynb\" target=\"_parent\"><img src=\"https://colab.research.google.com/assets/colab-badge.svg\" alt=\"Open In Colab\"/></a>"
      ]
    },
    {
      "cell_type": "code",
      "metadata": {
        "colab": {
          "base_uri": "https://localhost:8080/"
        },
        "id": "OykUtdNDrdb8",
        "outputId": "814c50f4-8de2-4cda-b835-84426ea8a521"
      },
      "source": [
        "basicPrice = 0\n",
        "unitPrice = 0\n",
        "totalPrice = 0\n",
        "\n",
        "amount = float(input('전기 사용량을 입력하세요:   '))\n",
        "\n",
        "if amount > 400:\n",
        "    basicPrice = 7300\n",
        "    unitPrice = 280.6\n",
        "elif amount > 200:\n",
        "    basicPrice = 1600\n",
        "    unitPrice = 187.9\n",
        "else:\n",
        "    basicPrice = 910\n",
        "    unitPrice = 99.3\n",
        "\n",
        "totalPrice = unitPrice * amount + basicPrice\n",
        "\n",
        "print('사용량: ', amount, 'kwh')\n",
        "print('기본요금: ', basicPrice, '원')\n",
        "print('단가: ', unitPrice, '원')\n",
        "print('총 요금: ', totalPrice, '원')\n",
        "\n"
      ],
      "execution_count": null,
      "outputs": [
        {
          "output_type": "stream",
          "text": [
            "전기 사용량을 입력하세요:   500\n",
            "사용량:  500.0 kwh\n",
            "기본요금:  7300 원\n",
            "단가:  280.6 원\n",
            "총 요금:  147600.0 원\n"
          ],
          "name": "stdout"
        }
      ]
    }
  ]
}